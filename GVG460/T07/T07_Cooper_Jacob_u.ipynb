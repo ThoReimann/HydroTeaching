{
 "cells": [
  {
   "cell_type": "markdown",
   "metadata": {},
   "source": [
    "# Simple computation of *u* as function of time *t* (Cooper-Jacob)"
   ]
  },
  {
   "cell_type": "code",
   "execution_count": 21,
   "metadata": {},
   "outputs": [],
   "source": [
    "%matplotlib inline\n",
    "import numpy as np\n",
    "import matplotlib.pyplot as plt\n",
    "import scipy.special"
   ]
  },
  {
   "cell_type": "markdown",
   "metadata": {},
   "source": [
    "Charles V. Theis presented a solution for this by deriving\n",
    "\n",
    "$$ s(r,t)=\\frac{Q}{4\\pi T}W(u) $$\n",
    "\n",
    "with the well function\n",
    "\n",
    "$$ W(u) = \\int_{u }^{+\\infty} \\frac{e^{-\\tilde u}}{\\tilde u}d\\tilde u $$\n",
    "\n",
    "and the dimensionless variable \n",
    "\n",
    "$$ u = \\frac{Sr^2}{4Tt} $$\n",
    "\n",
    "The Cooper-Jacob simplification is based on the fact that the functional behavior of *u* tends to zero for larger values of time *t* and, therefore, the well function *W(u)* can be simplified:\n",
    "\n",
    "$$ s(r,t)=\\frac{Q}{4\\pi T}log\\frac{2.25Tt}{r^2S} $$\n",
    "\n",
    "In the following box, the constant parameters of the problem can be inserted:"
   ]
  },
  {
   "cell_type": "code",
   "execution_count": 19,
   "metadata": {},
   "outputs": [],
   "source": [
    "r = 500 \n",
    "S = 1E-3\n",
    "T = 1E-1"
   ]
  },
  {
   "cell_type": "markdown",
   "metadata": {},
   "source": [
    "Subsequently, the functional behavior of *u*, *W(u)* with and without simplification is plotted. It becomes obvious that the Cooper-Jacob-Simplification is valid for sufficently large times."
   ]
  },
  {
   "cell_type": "code",
   "execution_count": 20,
   "metadata": {},
   "outputs": [
    {
     "data": {
      "image/png": "[encoded data removed]",
      "text/plain": [
       "<Figure size 432x288 with 1 Axes>"
      ]
     },
     "metadata": {
      "needs_background": "light"
     },
     "output_type": "display_data"
    }
   ],
   "source": [
    "#PLOT u as function of t\n",
    "\n",
    "tmax = 100000\n",
    "u_max = 1\n",
    "r_max = 100000\n",
    "u = [u_max for x in range(r_max)]\n",
    "t = [u_max for x in range(r_max)]\n",
    "\n",
    "#W(u) as full computaton W and simplified computation W2\n",
    "W = [u_max for x in range(r_max)]\n",
    "W2 = [u_max for x in range(r_max)]\n",
    "for x in range(1,tmax,1):\n",
    "    if x>0:\n",
    "        u[x] = r**2*S/4/T/x\n",
    "        t[x] = x\n",
    "        W[x] = scipy.special.exp1(u[x])\n",
    "        W2[x] = -0.577216-np.log(u[x])\n",
    "        \n",
    "#PLOT\n",
    "fig, ax = plt.subplots()\n",
    "ax.plot(t, u, 'g-')\n",
    "ax.plot(t, W,'r-')\n",
    "ax.plot(t, W2,'b--')\n",
    "3\n",
    "#plt.yscale(\"log\")\n",
    "plt.xscale(\"log\")\n",
    "plt.axis([1,1E5,1E-1,1E+1])\n",
    "ax.set(xlabel='t', ylabel='u / W(u)',\n",
    "       title='u')\n",
    "ax.grid(which=\"both\")\n",
    "plt.legend(('u','well function full','well function simplified'),loc=1)\n",
    "   \n",
    "plt.show()"
   ]
  },
  {
   "cell_type": "code",
   "execution_count": null,
   "metadata": {},
   "outputs": [],
   "source": []
  }
 ],
 "metadata": {
  "kernelspec": {
   "display_name": "Python 3",
   "language": "python",
   "name": "python3"
  },
  "language_info": {
   "codemirror_mode": {
    "name": "ipython",
    "version": 3
   },
   "file_extension": ".py",
   "mimetype": "text/x-python",
   "name": "python",
   "nbconvert_exporter": "python",
   "pygments_lexer": "ipython3",
   "version": "3.7.6"
  }
 },
 "nbformat": 4,
 "nbformat_minor": 4
}
