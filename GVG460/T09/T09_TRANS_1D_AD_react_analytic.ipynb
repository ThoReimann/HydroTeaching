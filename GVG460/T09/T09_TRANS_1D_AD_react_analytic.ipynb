{
 "cells": [
  {
   "cell_type": "code",
   "execution_count": 1,
   "metadata": {},
   "outputs": [],
   "source": [
    "import matplotlib\n",
    "import matplotlib.pyplot as plt\n",
    "from scipy import special\n",
    "import numpy as np\n",
    "from ipywidgets import *"
   ]
  },
  {
   "cell_type": "markdown",
   "metadata": {},
   "source": [
    "Daten und Parameter"
   ]
  },
  {
   "cell_type": "code",
   "execution_count": 4,
   "metadata": {
    "scrolled": false
   },
   "outputs": [
    {
     "data": {
      "application/vnd.jupyter.widget-view+json": {
       "model_id": "00495fe119e34f1c9f0b4ed44252ddd7",
       "version_major": 2,
       "version_minor": 0
      },
      "text/plain": [
       "interactive(children=(FloatSlider(value=50.0, description='LENGTH', min=1.0, step=1.0), FloatSlider(value=0.5,…"
      ]
     },
     "metadata": {},
     "output_type": "display_data"
    },
    {
     "data": {
      "text/plain": [
       "<function __main__.transport(l, f, t1, ci, c0, Q, n1, n2, D1, D2, R1, R2, lambd1, lambd2)>"
      ]
     },
     "execution_count": 4,
     "metadata": {},
     "output_type": "execute_result"
    }
   ],
   "source": [
    "#FUNCTIONS FOR COMPUTATION; ADS = ADVECTION, DISPERSION AND SORPTION - EVENTUALLY SET RETARDATION TO 1 FOR NO SORPTION\n",
    "def BETA(v,D,lambd,R):\n",
    "    beta=np.sqrt((v/(2*D))**2+(lambd*R)/D)\n",
    "    return beta\n",
    "\n",
    "def TERM0_ADSD(v,x,D):\n",
    "    term0 = np.exp(v*x/(2*D))\n",
    "    return term0\n",
    "\n",
    "def TERM1_ADS (x,v,R,t,D,sign):\n",
    "    term1 = special.erfc((x+sign*(v/R)*(t))/(2*np.sqrt((D*t/R))))\n",
    "    return term1\n",
    "\n",
    "def TERM1_ADSD(x,v,R,t,D,lambd,sign):\n",
    "    term1=  special.erfc((x+sign*t*np.sqrt((v/R)**2+4*lambd*D/R))/(2*np.sqrt(D*t/R)))\n",
    "    return term1\n",
    "\n",
    "def TERM2_ADS(v,D,x):\n",
    "    term2 = np.exp(v/D*x)\n",
    "    return term2\n",
    "\n",
    "def TERM2_ADSD(v,D,lambd,R,x,sign):\n",
    "    beta = BETA(v,D,lambd,R)\n",
    "    term2 = np.exp(sign*beta*x)\n",
    "    return term2\n",
    "\n",
    "def transport(l,f,t1,ci,c0,Q,n1,n2,D1,D2,R1,R2,lambd1,lambd2):\n",
    "    \n",
    "    # Data for plotting\n",
    "    t0 = 1       #Startzeit\n",
    "    dt = 1       #Zeitdiskretisierung\n",
    "    r  = 0.1     #Radius der Säule\n",
    "    #Berechnung Zwischenergebnisse\n",
    "    A = np.pi*r**2\n",
    "    q = Q/A\n",
    "    v1 = q/n1\n",
    "    v2 = q/n2\n",
    "\n",
    "    #Festlegung Zeitbereich\n",
    "    t = np.arange(t0, t1, dt)\n",
    "\n",
    "    #Berechnung Konzentration - Klammerterme\n",
    "    #Set fraction of distance\n",
    "    i = 0\n",
    "    result1 = []\n",
    "    result2 = []\n",
    "    time = []\n",
    "\n",
    "    #compute distance based on length and fraction\n",
    "    x = f*l\n",
    "\n",
    "    #compute concentration  \n",
    "    for t in range(t0, t1, dt):      \n",
    "        # ADVECTION-DISPERSION WITH OPTIONAL SORPTION / WITHOUT DECAY\n",
    "        if lambd1 == 0:\n",
    "            Term1m = TERM1_ADS(x,v1,R1,t,D1,-1)\n",
    "            Term1p = TERM1_ADS(x,v1,R1,t,D1,1)\n",
    "            Term2 = TERM2_ADS(v1,D1,x)\n",
    "            c1 = ci+((c0-ci)/2)*(Term1m+Term2*Term1p)\n",
    "        # WITH ADDITIONAL DECAY\n",
    "        else:\n",
    "            Term0  = TERM0_ADSD(v1,x,D1)\n",
    "            Term1m = TERM1_ADSD(x,v1,R1,t,D1,lambd1,-1)\n",
    "            Term1p = TERM1_ADSD(x,v1,R1,t,D1,lambd1,1)\n",
    "            Term2m = TERM2_ADSD(v1,D1,lambd1,R1,x,-1)\n",
    "            Term2p = TERM2_ADSD(v1,D1,lambd1,R1,x,1)\n",
    "            c1 = ci+(c0-ci)/2*Term0*(Term2m*Term1m+Term2p*Term1p)\n",
    "            \n",
    "        result1.append(c1)\n",
    "        \n",
    "# REPEAT FOR VARIANT 2\n",
    "        # ADVECTION-DISPERSION WITH OPTIONAL SORPTION / WITHOUT DECAY\n",
    "        if lambd2 == 0:\n",
    "            Term1m = TERM1_ADS(x,v2,R2,t,D2,-1)\n",
    "            Term1p = TERM1_ADS(x,v2,R2,t,D2,1)            \n",
    "            Term2 = TERM2_ADS(v2,D2,x)\n",
    "            c2 = ci+((c0-ci)/2)*(Term1m+Term2*Term1p)\n",
    "        else:\n",
    "            # WITH ADDITIONAL DECAY\n",
    "            Term0  = TERM0_ADSD(v2,x,D2)\n",
    "            Term1m = TERM1_ADSD(x,v2,R2,t,D2,lambd2,-1)\n",
    "            Term1p = TERM1_ADSD(x,v2,R2,t,D2,lambd2,1)            \n",
    "            Term2p = TERM2_ADSD(v2,D2,lambd2,R2,x,1)\n",
    "            Term2m = TERM2_ADSD(v2,D2,lambd2,R2,x,-1)\n",
    "            c2 = ci+(c0-ci)/2*Term0*(Term2m*Term1m+Term2p*Term1p)\n",
    "            \n",
    "        result2.append(c2)\n",
    "        \n",
    "        time.append(t)\n",
    "        \n",
    "# PLOT HERE   \n",
    "    fig = plt.figure(figsize=(9,6))\n",
    "    ax = fig.add_subplot(1, 1, 1)\n",
    "    ax.plot(time,result1)\n",
    "    ax.plot(time,result2)\n",
    "    plt.ylim(0, ci+c0)\n",
    "    plt.xlim(0,t1)\n",
    "    ax.set(xlabel='time', ylabel='conc.',\n",
    "       title='A-D transport according to Ogata-Banks')\n",
    "    ax.grid()\n",
    "    plt.legend(('1', '2'), loc=4)\n",
    "    \n",
    "# COMMENTED THIS OUT - OPTIONAL SAVE IF INTENDED    \n",
    "   # fig.savefig(\"test.png\")\n",
    "    plt.show()\n",
    "    print('observation at x = ', '{:1.2f}'.format(x))\n",
    "    \n",
    "#THE FOLLOWING ALLOWS TO DEFINE THE RANGE OF SLIDERS DEPENDING ON OTHER SLIDER SETTINGS (HERE DISP AS FUNCTION OF LENGTH)\n",
    "    \n",
    "D1_widget = FloatSlider(value=1,min=0.005, max=10,step=0.1,description='DISP 1', readout_format='.3f' )\n",
    "D2_widget = FloatSlider(value=1,min=0.005, max=10,step=0.1,description='DISP 2', readout_format='.3f' )\n",
    "l_widget  = FloatSlider(value=50,min=1, max=100,step=1,description='LENGTH', readout_format='.2f' )\n",
    "\n",
    "def update_D_range(*args):\n",
    "    D1_widget.min = 0.00015 * l_widget.value\n",
    "    D2_widget.min = 0.00015 * l_widget.value\n",
    "    D1_widget.max = l_widget.value\n",
    "    D2_widget.max = l_widget.value\n",
    "    D1_widget.step = 0.01*l_widget.value\n",
    "    D2_widget.step = 0.01*l_widget.value\n",
    "    \n",
    "l_widget.observe(update_D_range, 'value')\n",
    "   \n",
    "interact(transport,\n",
    "         #DEFINE THE RANGE SUCH THAT NOT TOO MANY COMPUTATIONS ARE NECESSARY WHEN MOVING THE SLIDER!\n",
    "         l=l_widget,\n",
    "         f=widgets.FloatSlider(value=0.5,min=0.01, max=1,step=0.01,description='OBS (FRACTION OF LENGTH)', readout_format='.2f' ),\n",
    "         t1 = widgets.IntSlider(value=3600, min = 60, max = 86400, step = 60, description = 'MAX TIME'),\n",
    "         ci=widgets.FloatSlider(value=0,min=0,max=10,step=0.1, description='C initial',readout_format='.2f'),\n",
    "         c0=widgets.FloatSlider(value=2,min=0, max=5,step=0.1,description='C0', readout_format='.2f' ),\n",
    "         Q=widgets.FloatSlider(value=0.0005, min=0.00001, max=0.001, step=0.0001, description='Discharge Q',readout_format='.5f'),\n",
    "         n1=widgets.FloatSlider(value=0.2,min=0.02, max=0.6, step=0.01, description='PORO 1',readout_format='.2f'),\n",
    "         n2=widgets.FloatSlider(value=0.2,min=0.02, max=0.6, step=0.01, description='PORO 2', readout_format='.2f' ),         \n",
    "         D1=D1_widget,\n",
    "         D2=D2_widget,\n",
    "         R1=widgets.FloatSlider(value=1, min=0.8, max=10,step=0.1,description='Retardation 1',readout_format='.2f'),\n",
    "         R2=widgets.FloatSlider(value=1, min=0.8, max=10,step=0.1,description='Retardation 2',readout_format='.2f'),\n",
    "         lambd1=widgets.FloatSlider(value=0,min=0,max=0.005,step=0.0005,description='LAMBDA 1',readout_format='.4f'),\n",
    "         lambd2=widgets.FloatSlider(value=0,min=0,max=0.005,step=0.0005,description='LAMBDA 2',readout_format='.4f'),\n",
    "        )"
   ]
  },
  {
   "cell_type": "code",
   "execution_count": null,
   "metadata": {},
   "outputs": [],
   "source": []
  },
  {
   "cell_type": "code",
   "execution_count": null,
   "metadata": {},
   "outputs": [],
   "source": []
  }
 ],
 "metadata": {
  "kernelspec": {
   "display_name": "Python 3 (ipykernel)",
   "language": "python",
   "name": "python3"
  },
  "language_info": {
   "codemirror_mode": {
    "name": "ipython",
    "version": 3
   },
   "file_extension": ".py",
   "mimetype": "text/x-python",
   "name": "python",
   "nbconvert_exporter": "python",
   "pygments_lexer": "ipython3",
   "version": "3.8.5"
  }
 },
 "nbformat": 4,
 "nbformat_minor": 2
}
