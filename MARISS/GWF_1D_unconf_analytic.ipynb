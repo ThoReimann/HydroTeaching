{
 "cells": [
  {
   "cell_type": "markdown",
   "metadata": {
    "slideshow": {
     "slide_type": "slide"
    }
   },
   "source": [
    "# Analytical solution for 1D unconfined flow with two defined head boundaries\n",
    "This notebook provide the mathematical solution for 1D groundwater flow in an unconfined aquifer bounded by two defined head boundary conditions. \n",
    "\n",
    "## Equations\n",
    "\n",
    "1D groundwater flow\n",
    "\n",
    "$\\large \\frac{d}{dx}=(-hK\\frac{dh}{dx})=R$\n",
    "with\n",
    "- x is spatial coordinate along flow,\n",
    "- h is hydraulic head,\n",
    "- K is hydraulic conductivity,\n",
    "- R is recharge.\n",
    "\n",
    "A solution for the equation can be obtained with two boundary conditions at _x_ = 0 and _x_ = _L_:\n",
    "\n",
    "- $h(0) = h_0$\n",
    "\n",
    "- $h(L) = h_L$\n",
    "\n",
    "The solution for hydraulic head _h_ along _x_ is:\n",
    "\n",
    "$\\large h(x)=\\sqrt{h_0^2-\\frac{h_0^2-h_L^2}{L}x+\\frac{R}{K}x(L-x)}$\n"
   ]
  },
  {
   "cell_type": "code",
   "execution_count": 8,
   "metadata": {
    "slideshow": {
     "slide_type": "skip"
    }
   },
   "outputs": [
    {
     "data": {
      "application/vnd.jupyter.widget-view+json": {
       "model_id": "be4e9a560ed344f3b4f5d235888206b4",
       "version_major": 2,
       "version_minor": 0
      },
      "text/plain": [
       "interactive(children=(BoundedFloatText(value=150.0, description='h0:', max=1000.0, step=1.0), BoundedFloatText…"
      ]
     },
     "metadata": {},
     "output_type": "display_data"
    },
    {
     "data": {
      "text/plain": [
       "<function __main__.head(hl, hr, L, R, K, y_scale)>"
      ]
     },
     "execution_count": 8,
     "metadata": {},
     "output_type": "execute_result"
    }
   ],
   "source": [
    "# Initialize librarys\n",
    "from scipy.special import erfc, erf\n",
    "import matplotlib\n",
    "import matplotlib.pyplot as plt\n",
    "import numpy as np\n",
    "import math\n",
    "from ipywidgets import *\n",
    "\n",
    "# Definition of the function\n",
    "def head(hl, hr, L, R, K,y_scale):\n",
    "    x = np.arange(0, L,L/1000)\n",
    "    R=R/1000/365.25/86400\n",
    "    h=(hl**2-(hl**2-hr**2)/L*x+(R/K*x*(L-x)))**0.5\n",
    "    \n",
    "    # PLOT FIGURE\n",
    "    fig = plt.figure(figsize=(9,6))\n",
    "    ax = fig.add_subplot(1, 1, 1)\n",
    "    ax.plot(x,h)\n",
    "    ax.set(xlabel='x', ylabel='head',title='Hydraulic head for 1D unconfined flow')\n",
    "    ax.fill_between(x,0,h, facecolor='lightblue')\n",
    "    \n",
    "    # BOUNDARY CONDITIONS hl, hr\n",
    "    ax.vlines(0, 0, hl, linewidth = 10, color='b')\n",
    "    ax.vlines(L, 0, hr, linewidth = 10, color='b')\n",
    "    \n",
    "    # MAKE 'WATER'-TRIANGLE\n",
    "    h_arrow = (hl**2-(hl**2-hr**2)/L*(L*0.96)+(R/K*(L*0.96)*(L-(L*0.96))))**0.5  #water level at arrow\n",
    "    ax.arrow(L*0.96,(h_arrow+(h_arrow*0.002)), 0, -0.01, fc=\"k\", ec=\"k\", head_width=(L*0.015), head_length=(h_arrow*0.0015))\n",
    "    ax.hlines(y= h_arrow-(h_arrow*0.0005), xmin=L*0.95, xmax=L*0.97, colors='blue')   \n",
    "    ax.hlines(y= h_arrow-(h_arrow*0.001), xmin=L*0.955, xmax=L*0.965, colors='blue')\n",
    "\n",
    "    #ARROWS FOR RECHARGE \n",
    "    if R != 0:\n",
    "        head_length=(R*86400*365.25*1000*0.002)*y_scale/2\n",
    "        h_rch1 = (hl**2-(hl**2-hr**2)/L*(L*0.25)+(R/K*(L*0.25)*(L-(L*0.25))))**0.5  #water level at arrow for Recharge Posotion 1\n",
    "        ax.arrow(L*0.25,(h_rch1+head_length), 0, -0.01, fc=\"k\", ec=\"k\", head_width=(head_length*300/y_scale), head_length=head_length)\n",
    "        h_rch2 = (hl**2-(hl**2-hr**2)/L*(L*0.50)+(R/K*(L*0.50)*(L-(L*0.50))))**0.5  #water level at arrow for Recharge Postition 2\n",
    "        ax.arrow(L*0.50,(h_rch2+head_length), 0, -0.01, fc=\"k\", ec=\"k\", head_width=(head_length*300/y_scale), head_length=head_length)\n",
    "        h_rch3 = (hl**2-(hl**2-hr**2)/L*(L*0.75)+(R/K*(L*0.75)*(L-(L*0.75))))**0.5  #water level at arrow for Recharge Position 3\n",
    "        ax.arrow(L*0.75,(h_rch3+head_length), 0, -0.01, fc=\"k\", ec=\"k\", head_width=(head_length*300/y_scale), head_length=head_length)\n",
    "\n",
    "    #Groundwater divide\n",
    "    max_y = max(h)\n",
    "    max_x = x[h.argmax()]\n",
    "    R_min_ms=K*abs(hl**2-hr**2)/L**2\n",
    "    if R>R_min_ms:\n",
    "        plt.vlines(max_x,0,max_y, color=\"r\")\n",
    "\n",
    "    plt.ylim(hl*(1-y_scale/100),hr*(1+y_scale/100))\n",
    "    plt.xlim(-50,L+50)\n",
    "    plt.text(L, (hr*1.016), 'R: {} m/s '.format(R), horizontalalignment='right', bbox=dict(boxstyle=\"square\", facecolor='grey'))\n",
    "    ax.grid()\n",
    "    plt.show()\n",
    "    #print('R: ',R, ' m/s')\n",
    "    \n",
    "# Computation\n",
    "\n",
    "interact(head,\n",
    "         y_scale = widgets.BoundedFloatText(value=3, min=1, max=100, step=1, description='y_scale:', disabled=False),\n",
    "         hl=widgets.BoundedFloatText(value=150, min=0, max=1000, step=1, description='h0:', disabled=False),\n",
    "         hr=widgets.BoundedFloatText(value=152, min=0, max=1000, step=1, description='hL:', disabled=False),\n",
    "         L= widgets.BoundedFloatText(value=2500,min=0, max=20000,step=100, description='L:' , disabled=False),\n",
    "         R=(-500,500,10),\n",
    "         K=widgets.FloatLogSlider(value=0.0001,base=10,min=-6, max=-2, step=0.1,readout=True,readout_format='.2e'))\n"
   ]
  },
  {
   "cell_type": "markdown",
   "metadata": {},
   "source": [
    "<hr>\n",
    "&copy; 2021 | Thomas Reimann\n",
    "<a rel=\"license\" href=\"http://creativecommons.org/licenses/by/4.0/\"><img style=\"float: right\" alt=\"Creative Commons Lizenzvertrag\" style=\"border-width:0\" src=\"https://i.creativecommons.org/l/by/4.0/88x31.png\" /></a>"
   ]
  },
  {
   "cell_type": "code",
   "execution_count": null,
   "metadata": {},
   "outputs": [],
   "source": []
  }
 ],
 "metadata": {
  "celltoolbar": "Slideshow",
  "kernelspec": {
   "display_name": "Python 3 (ipykernel)",
   "language": "python",
   "name": "python3"
  },
  "language_info": {
   "codemirror_mode": {
    "name": "ipython",
    "version": 3
   },
   "file_extension": ".py",
   "mimetype": "text/x-python",
   "name": "python",
   "nbconvert_exporter": "python",
   "pygments_lexer": "ipython3",
   "version": "3.8.5"
  }
 },
 "nbformat": 4,
 "nbformat_minor": 2
}
