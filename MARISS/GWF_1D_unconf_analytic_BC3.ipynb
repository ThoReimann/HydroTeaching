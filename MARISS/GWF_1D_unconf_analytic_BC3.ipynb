{
 "cells": [
  {
   "cell_type": "markdown",
   "metadata": {},
   "source": [
    "# Analytical solution for 1D unconfined flow with two Robin (3rd type) boundaries\n",
    "\n",
    "## Equations\n",
    "\n",
    "1D groundwater flow\n",
    "\n",
    "$\\large \\frac{d}{dx}=(-hK\\frac{dh}{dx})=R$\n",
    "with\n",
    "- x is spatial coordinate along flow,\n",
    "- h is hydraulic head,\n",
    "- K is hydraulic conductivity,\n",
    "- R is recharge.\n",
    "\n",
    "A solution for the equation can be obtained with two boundary conditions at _x_ = 0 and _x_ = _L_:\n",
    "\n",
    "- $h(0) = h_0$\n",
    "\n",
    "- $h(L) = h_L$\n",
    "\n",
    "The solution for hydraulic head _h_ along _x_ is:\n",
    "\n",
    "$\\large h(x)=\\sqrt{h_0^2-\\frac{h_0^2-h_L^2}{L}x+\\frac{R}{K}x(L-x)}$\n",
    "\n",
    "***In addition*** this notebook accounts a 3rd-type Robin boundary for the left and right side with the additional parameters\n",
    "- Kb is the hydraulic conductivity of the colmation layer,\n",
    "- m is the thickness of the colmation layer, and\n",
    "- hB is the head of the 3rd type boundary."
   ]
  },
  {
   "cell_type": "code",
   "execution_count": 1,
   "metadata": {},
   "outputs": [
    {
     "data": {
      "application/vnd.jupyter.widget-view+json": {
       "model_id": "589930bc5ba949bfb29063f278876678",
       "version_major": 2,
       "version_minor": 0
      },
      "text/plain": [
       "interactive(children=(BoundedFloatText(value=2500.0, description='L:', max=20000.0, step=100.0), IntSlider(val…"
      ]
     },
     "metadata": {},
     "output_type": "display_data"
    },
    {
     "data": {
      "text/plain": [
       "<function __main__.head(L, R, K, hl, mbl, Kbl, hr, mbr, Kbr)>"
      ]
     },
     "execution_count": 1,
     "metadata": {},
     "output_type": "execute_result"
    }
   ],
   "source": [
    "# Initialize librarys\n",
    "from scipy.special import erfc, erf\n",
    "import matplotlib\n",
    "import matplotlib.pyplot as plt\n",
    "import numpy as np\n",
    "import math\n",
    "from ipywidgets import *\n",
    "\n",
    "# Definition of the function\n",
    "def head(L, R, K, hl, mbl, Kbl, hr, mbr, Kbr):\n",
    "    Ll = K/Kbl*mbl\n",
    "    Lr = K/Kbr*mbr\n",
    "    \n",
    "    x = np.arange(0, (L+Ll+Lr),(L+Ll+Lr)/1000)\n",
    "    R=R/1000/365.25/86400\n",
    "    h=(hl**2-(hl**2-hr**2)/(L+Ll+Lr)*x+(R/K*x*((L+Ll+Lr)-x)))**0.5\n",
    "    xt = x-Ll\n",
    "    \n",
    "    #PLOT FIGURE\n",
    "    fig = plt.figure(figsize=(9,6))\n",
    "    ax = fig.add_subplot(1, 1, 1)\n",
    "    ax.plot(xt,h)\n",
    "    ax.set(xlabel='x', ylabel='head',title='Hydraulic head for 1D unconfined flow')\n",
    "    ax.fill_between(xt,0,h, facecolor='lightblue')\n",
    "    \n",
    "    # BOUNDARY CONDITIONS hl, hr\n",
    "    ax.vlines(0, 0, hl, linewidth = 10, color='b')\n",
    "    ax.vlines(L, 0, hr, linewidth = 10, color='b')\n",
    "    \n",
    "    # MAKE 'WATER'-TRIANGLE\n",
    "    h_arrow = (hl**2-(hl**2-hr**2)/(L+Ll+Lr)*(L*0.96)+(R/K*(L*0.96)*((L+Ll+Lr)-(L*0.96))))**0.5  #water level at arrow\n",
    "    ax.arrow(L*0.96,(h_arrow+(h_arrow*0.002)), 0, -0.01, fc=\"k\", ec=\"k\", head_width=(L*0.015), head_length=(h_arrow*0.0015))\n",
    "    ax.hlines(y= h_arrow-(h_arrow*0.0005), xmin=L*0.95, xmax=L*0.97, colors='blue')   \n",
    "    ax.hlines(y= h_arrow-(h_arrow*0.001), xmin=L*0.955, xmax=L*0.965, colors='blue')\n",
    "    \n",
    "    plt.ylim(hl*0.98,hr*1.02)\n",
    "    plt.xlim(0,L)\n",
    "    ax.grid()\n",
    "    plt.show()\n",
    "    print('R: ',R, ' m/s')\n",
    "    \n",
    "# Computation\n",
    "\n",
    "interact(head,\n",
    "         L= widgets.BoundedFloatText(value=2500,min=0, max=20000,step=100, description='L:' , disabled=False),\n",
    "         R=(-500,500,10),\n",
    "         K=widgets.FloatLogSlider(value=0.0001,base=10,min=-6, max=-2, step=0.1,readout=True,readout_format='.2e'),\n",
    "         hl=widgets.BoundedFloatText(value=150, min=0, max=1000, step=1, description='hb0:', disabled=False),\n",
    "         Kbl=widgets.FloatLogSlider(value=0.000001,base=10,min=-8, max=-2, step=0.1,description='Kb0:',readout=True,readout_format='.2e'),\n",
    "         mbl=widgets.BoundedFloatText(value=0.5, min=0, max=2, step=0.1, description='m0:', disabled=False),\n",
    "         hr=widgets.BoundedFloatText(value=152, min=0, max=1000, step=1, description='hbL:', disabled=False),\n",
    "         Kbr=widgets.FloatLogSlider(value=0.000001,base=10,min=-8, max=-2, step=0.1,description='KbL:',readout=True,readout_format='.2e'),\n",
    "         mbr=widgets.BoundedFloatText(value=0.5, min=0, max=2, step=0.1, description='mL:', disabled=False),         \n",
    "        )\n"
   ]
  },
  {
   "cell_type": "markdown",
   "metadata": {},
   "source": [
    "<hr>\n",
    "&copy; 2021 | Thomas Reimann\n",
    "<a rel=\"license\" href=\"http://creativecommons.org/licenses/by/4.0/\"><img style=\"float: right\" alt=\"Creative Commons Lizenzvertrag\" style=\"border-width:0\" src=\"https://i.creativecommons.org/l/by/4.0/88x31.png\" /></a>"
   ]
  }
 ],
 "metadata": {
  "celltoolbar": "Slideshow",
  "kernelspec": {
   "display_name": "Python 3 (ipykernel)",
   "language": "python",
   "name": "python3"
  },
  "language_info": {
   "codemirror_mode": {
    "name": "ipython",
    "version": 3
   },
   "file_extension": ".py",
   "mimetype": "text/x-python",
   "name": "python",
   "nbconvert_exporter": "python",
   "pygments_lexer": "ipython3",
   "version": "3.8.5"
  }
 },
 "nbformat": 4,
 "nbformat_minor": 2
}
