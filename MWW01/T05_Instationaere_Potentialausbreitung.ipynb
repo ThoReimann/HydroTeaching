{
 "cells": [
  {
   "cell_type": "markdown",
   "metadata": {},
   "source": [
    "# Wärmeleitung\n",
    "Wärmeleitung bzw. Konduktion wird durch einen Temperaturgradienten angetrieben. Damit handelt es sich um einen diffusive Bewegung. Dieses Notebook löst die Diffusionsgleichung um die 1D Wärmeleitung als Funktion von Ort (x) und Zeit (t) zu beschreiben.\n",
    "\n",
    "Die Grundwasserströmung verhält sich ähnlich und kann mit den gleichen Gesetzen für die 1D-Ausbreitung beschrieben werden."
   ]
  },
  {
   "cell_type": "markdown",
   "metadata": {},
   "source": [
    "# Gleichung für die 1D Ausbreitung von Drucksignalen (im porösen Untergrund)\n",
    "\n",
    "Speicher $S = S_s m + S_y$\n",
    "\n",
    "wassergefüllte Mächtigkeit $m$\n",
    "\n",
    "hydraulische Leitfähigkeit $K $\n",
    "\n",
    "Potentialhöhe $h$\n",
    "\n",
    "Hydraulische Diffusivität $D_f=\\frac{K}{S}$ with $D_f$ = hydraulic Diffusivity\n",
    "\n",
    "1-D instationäre Grundwasserströmung\n",
    "\n",
    "$h(x,t)=h_0 erfc (\\frac{x}{\\sqrt{4 D_f t}})$"
   ]
  },
  {
   "cell_type": "code",
   "execution_count": 1,
   "metadata": {},
   "outputs": [],
   "source": [
    "# Initialize librarys\n",
    "from scipy.special import erfc, erf\n",
    "import matplotlib\n",
    "import matplotlib.pyplot as plt\n",
    "import numpy as np\n",
    "import math\n",
    "from ipywidgets import *"
   ]
  },
  {
   "cell_type": "code",
   "execution_count": 18,
   "metadata": {},
   "outputs": [],
   "source": [
    "# Define functions\n",
    "def D_fu(K, SY):\n",
    "    D_fu = K/SY\n",
    "    return D_fu\n",
    "\n",
    "def D_fc(K, Ss, m):\n",
    "    D_fc = K/(Ss*m)\n",
    "    return D_fc\n",
    "\n",
    "def Flow1D(t_max,x_max,hini,dh,K,SY,Ss,m,x1,t2,):\n",
    "    t1 = np.arange(1, t_max, 1)\n",
    "    x2 = np.arange(1, x_max,1)\n",
    "    t_maxd = t_max/365\n",
    "    h1=hini+dh*erfc(x1/(4*D_fu(K,SY)*(t1*86400))**0.5)\n",
    "    h2=hini+dh*erfc(x2/(4*D_fu(K,SY)*(t2*86400))**0.5)\n",
    "    h3=hini+dh*erfc(x1/(4*D_fc(K,Ss,m)*(t1*86400))**0.5)\n",
    "    h4=hini+dh*erfc(x2/(4*D_fc(K,Ss,m)*(t2*86400))**0.5)\n",
    "    \n",
    "    #PLOT\n",
    "    fig = plt.figure(figsize=(18,12))\n",
    "    gs = fig.add_gridspec(2,2)\n",
    "    ax1 = fig.add_subplot(gs[0,0])\n",
    "    ax2 = fig.add_subplot(gs[0,1])\n",
    "    ax3 = fig.add_subplot(gs[1,0])\n",
    "    ax4 = fig.add_subplot(gs[1,1])\n",
    "    \n",
    "    ax1.plot(t1,h1, color='r')\n",
    "    ax1.set(xlabel='Zeit (d)', ylabel='Potentialhöhe (m)',title='Potentialhöhe als Funktion des Ortes')\n",
    "    ax1.grid()\n",
    "    ax1.set_ylim(hini-2,dh+hini+2)\n",
    "    ax1.set_xlim(0,t_max)\n",
    "    ax1.text(t_max*0.95, (dh+hini+2)*0.9, 'x: {} m '.format(x1), horizontalalignment='right', bbox=dict(boxstyle=\"square\", facecolor='grey'))\n",
    "   \n",
    "    ax2.plot(x2,h2,color='g')\n",
    "    ax2.set(xlabel='Ort (x)', ylabel='Potentialhöhe (m)',title='Potentialhöhe als Funktion der Zeit')\n",
    "    ax2.grid()\n",
    "    ax2.set_ylim(hini-2,dh+hini+2)\n",
    "    ax2.set_xlim(0,x_max)\n",
    "    ax2.text(x_max*0.95, (dh+hini+2)*0.9, 't: {} d '.format(t2), horizontalalignment='right', bbox=dict(boxstyle=\"square\", facecolor='grey'))\n",
    "   \n",
    "    ax3.plot(t1,h3)\n",
    "    ax3.set(xlabel='Zeit (s)', ylabel='Potentialänderung (m)',title='Druckpotential als Funktion des Ortes(unten)')\n",
    "    ax3.grid()\n",
    "    ax3.set_ylim(hini-2,dh+hini+2)\n",
    "    ax3.set_xlim(0,t_max)\n",
    "    ax3.text(t_max*0.95, (dh+hini+2)*0.9, 'x: {} m '.format(x1), horizontalalignment='right', bbox=dict(boxstyle=\"square\", facecolor='grey'))\n",
    "    \n",
    "    ax4.plot(x2,h4)\n",
    "    ax4.set(xlabel='Ort (x)', ylabel='Potentialänderung (m)',title='Druckpotential als Funktion der Zeit(unten)')\n",
    "    ax4.grid()\n",
    "    ax4.set_ylim(hini-2,dh+hini+2)\n",
    "    ax4.set_xlim(0,x_max)\n",
    "    ax4.text(x_max*0.95, (dh+hini+2)*0.9, 't: {} d '.format(t2/86400), horizontalalignment='right', bbox=dict(boxstyle=\"square\", facecolor='grey'))\n",
    "\n",
    "    plt.show()\n"
   ]
  },
  {
   "cell_type": "code",
   "execution_count": 19,
   "metadata": {},
   "outputs": [
    {
     "data": {
      "application/vnd.jupyter.widget-view+json": {
       "model_id": "5208d290e16b4f3cb69670fbe23d2563",
       "version_major": 2,
       "version_minor": 0
      },
      "text/plain": [
       "interactive(children=(IntSlider(value=10, description='h ini (m)', max=2000, readout_format='.2f'), FloatSlide…"
      ]
     },
     "metadata": {},
     "output_type": "display_data"
    }
   ],
   "source": [
    "t_max = 365\n",
    "x_max = 1000\n",
    "\n",
    "interact(Flow1D,\n",
    "         t_max=fixed(t_max),\n",
    "         x_max=fixed(x_max),\n",
    "         hini     =widgets.IntSlider(value=   10,            min=0, max=2000,       step=1, description = \"h ini (m)\", readout=True,readout_format='.2f'),\n",
    "         dh      =widgets.FloatSlider(value=   5,           min=0.1,   max=15,    step=0.1, description = \"Delta h (m)\", readout=True,readout_format='.2f'),\n",
    "         K    =widgets.FloatLogSlider(value=0.0001,base=10,  min=-9,   max=-2,    step=0.1,readout=True,readout_format='.2e'),\n",
    "         SY      =widgets.FloatSlider(value= 0.25,         min=0.01, max=0.80,   step=0.01, description = \"SY\",readout=True,readout_format='.2f'),\n",
    "         Ss =widgets.FloatLogSlider(value=0.00001,base=10,  min=-6,   max=-3,    step=0.1,readout=True,readout_format='.2e'),\n",
    "         m       =widgets.FloatSlider(value=   20,           min=0.1, max=200,    step=0.1, description = \"Mächtigkeit (m)\", readout=True,readout_format='.2f'),\n",
    "         x1      =widgets.IntSlider  (value=   25,            min=1,  max=2500,      step=1, description = \"<= Ort (x in m)\"),\n",
    "         t2      =widgets.IntSlider  (value=  182,            min=1,  max=365,      step=1, description = \"=> Zeit (t in d)\"));\n"
   ]
  },
  {
   "cell_type": "code",
   "execution_count": null,
   "metadata": {},
   "outputs": [],
   "source": []
  }
 ],
 "metadata": {
  "kernelspec": {
   "display_name": "Python 3",
   "language": "python",
   "name": "python3"
  },
  "language_info": {
   "codemirror_mode": {
    "name": "ipython",
    "version": 3
   },
   "file_extension": ".py",
   "mimetype": "text/x-python",
   "name": "python",
   "nbconvert_exporter": "python",
   "pygments_lexer": "ipython3",
   "version": "3.8.5"
  }
 },
 "nbformat": 4,
 "nbformat_minor": 4
}
