{
 "cells": [
  {
   "cell_type": "markdown",
   "metadata": {},
   "source": [
    "# Wärmeleitung\n",
    "Wärmeleitung bzw. Konduktion wird durch einen Temperaturgradienten angetrieben. Damit handelt es sich um einen diffusive Bewegung. Dieses Notebook löst die Diffusionsgleichung um die 1D Wärmeleitung als Funktion von Ort (x) und Zeit (t) zu beschreiben.\n",
    "\n",
    "Die Grundwasserströmung verhält sich ähnlich und kann mit den gleichen Gesetzen für die 1D-Ausbreitung beschrieben werden."
   ]
  },
  {
   "cell_type": "markdown",
   "metadata": {},
   "source": [
    "# Gleichung für die 1D Wärmeleitung (in einem Medium)\n",
    "\n",
    "$S = c\\rho$\n",
    "\n",
    "$K = \\lambda$\n",
    "\n",
    "$h = T$\n",
    "\n",
    "$D_f=\\frac{K}{S}$ with $D_f$ = hydraulic Diffusivity\n",
    "\n",
    "$D_h=\\frac{\\lambda_w}{c_w \\rho_w}$ with $D_h$ = thermal Diffusivity\n",
    "\n",
    "1-D Conduction without heat storage\n",
    "\n",
    "$T(x,t)=T_0 erfc (\\frac{x}{\\sqrt{4 D_h t}})$\n",
    "\n",
    "1-D Groundwater movement\n",
    "\n",
    "$h(x,t)=h_0 erfc (\\frac{x}{\\sqrt{4 D_f t}})$"
   ]
  },
  {
   "cell_type": "code",
   "execution_count": 1,
   "metadata": {},
   "outputs": [],
   "source": [
    "# Initialize librarys\n",
    "from scipy.special import erfc, erf\n",
    "import matplotlib\n",
    "import matplotlib.pyplot as plt\n",
    "import numpy as np\n",
    "import math\n",
    "from ipywidgets import *"
   ]
  },
  {
   "cell_type": "code",
   "execution_count": 2,
   "metadata": {},
   "outputs": [],
   "source": [
    "# Define functions\n",
    "def D_h(lam, rho, c):\n",
    "    rhoc = rho*c\n",
    "    D_h = lam/rhoc\n",
    "    return D_h\n",
    "\n",
    "def Flow1D(t_max,x_max,Tini,dT,lam,rho,c,x1,t2,):\n",
    "    t1 = np.arange(1, t_max, 1)\n",
    "    x2 = np.arange(1, x_max,1)\n",
    "    t_maxd = t_max/365\n",
    "    T1=Tini+dT*erfc(x1/(4*D_h(lam, rho, c)*(t1*86400))**0.5)\n",
    "    T2=Tini+dT*erfc(x2/(4*D_h(lam, rho, c)*(t2*86400))**0.5)\n",
    "    \n",
    "    #PLOT\n",
    "    fig = plt.figure(figsize=(18,12))\n",
    "    gs = fig.add_gridspec(2,2)\n",
    "    ax1 = fig.add_subplot(gs[0,0])\n",
    "    ax2 = fig.add_subplot(gs[0,1])\n",
    "    \n",
    "    ax1.plot(t1,T1, color='r')\n",
    "    ax1.set(xlabel='Zeit (d)', ylabel='Temperatur (m)',title='Temperatur als Funktion des Ortes')\n",
    "    ax1.grid()\n",
    "    ax1.set_ylim(Tini-2,dT+Tini+2)\n",
    "    ax1.set_xlim(0,t_max)\n",
    "    ax1.text(t_max*0.95, (dT+Tini+2)*0.9, 'x: {} m '.format(x1), horizontalalignment='right', bbox=dict(boxstyle=\"square\", facecolor='grey'))\n",
    "   \n",
    "    ax2.plot(x2,T2,color='g')\n",
    "    ax2.set(xlabel='Ort (x)', ylabel='Temperatur (m)',title='Temperatur als Funktion der Zeit')\n",
    "    ax2.grid()\n",
    "    ax2.set_ylim(Tini-2,dT+Tini+2)\n",
    "    ax2.set_xlim(0,x_max)\n",
    "    ax2.text(x_max*0.95, (dT+Tini+2)*0.9, 't: {} d '.format(t2), horizontalalignment='right', bbox=dict(boxstyle=\"square\", facecolor='grey'))\n",
    "   \n",
    "    plt.show()\n",
    "    \n",
    "    print ('D_h', D_h(lam, rho, c))\n"
   ]
  },
  {
   "cell_type": "code",
   "execution_count": 4,
   "metadata": {
    "scrolled": true
   },
   "outputs": [
    {
     "data": {
      "application/vnd.jupyter.widget-view+json": {
       "model_id": "1c48c70eeb0d4d2bbf2823b61e28e9db",
       "version_major": 2,
       "version_minor": 0
      },
      "text/plain": [
       "interactive(children=(FloatSlider(value=8.0, description='Temp. ini (C)', max=15.0, min=4.0), FloatSlider(valu…"
      ]
     },
     "metadata": {},
     "output_type": "display_data"
    }
   ],
   "source": [
    "t_max = 365\n",
    "x_max = 100\n",
    "\n",
    "interact(Flow1D,\n",
    "         t_max=fixed(t_max),\n",
    "         x_max=fixed(x_max),\n",
    "         Tini=widgets.FloatSlider(value=   8,     min=4,  max=15,    step=0.1, description = \"Temp. ini (C)\", readout=True,readout_format='.2f'),\n",
    "         dT  =widgets.FloatSlider(value=   5,   min=0.1,  max=15,    step=0.1, description = \"Delta Temp (C)\", readout=True,readout_format='.2f'),\n",
    "         lam =widgets.FloatSlider(value=2.000,  min=0.3,    max=3, step=0.001, description = \"Lambda\", readout=True,readout_format='.3f'),\n",
    "         rho =widgets.FloatSlider(value=1000,  min=900,    max=1200, step=0.1, description = \"Rho\",readout=True,readout_format='.3f'),\n",
    "         c   =widgets.IntSlider  (value= 4182,min=0.200, max=5000,     step=1, description = \"C\"),\n",
    "         x1  =widgets.IntSlider  (value=   25,    min=1,  max=500,     step=1, description = \"<= Ort (x in m)\"),\n",
    "         t2  =widgets.IntSlider  (value=  182,    min=1,  max=365,     step=1, description = \"=> Zeit (t in d)\"));\n"
   ]
  },
  {
   "cell_type": "code",
   "execution_count": null,
   "metadata": {},
   "outputs": [],
   "source": []
  }
 ],
 "metadata": {
  "kernelspec": {
   "display_name": "Python 3",
   "language": "python",
   "name": "python3"
  },
  "language_info": {
   "codemirror_mode": {
    "name": "ipython",
    "version": 3
   },
   "file_extension": ".py",
   "mimetype": "text/x-python",
   "name": "python",
   "nbconvert_exporter": "python",
   "pygments_lexer": "ipython3",
   "version": "3.8.5"
  }
 },
 "nbformat": 4,
 "nbformat_minor": 4
}
