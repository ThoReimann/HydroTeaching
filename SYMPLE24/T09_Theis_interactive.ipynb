{
 "cells": [
  {
   "cell_type": "markdown",
   "metadata": {},
   "source": [
    "# Theis pumping test - Fitting Theis to measured data\n",
    "This notebook demonstrate the application of the Theis principle for pumping test evaluation in confined, transient setups. Parts of the notebook use code from Randy Hunt (refer to P3_4 from the textbook of Anderson, Woessner, and Hunt (2015) - available on GITHUB)"
   ]
  },
  {
   "cell_type": "markdown",
   "metadata": {},
   "source": [
    "## Introduction\n",
    "\n",
    "### General situation\n",
    "We consider a confined aquifer with constant transmissivity. If a well is pumping water out of the aquifer, radial flow towards the well is induced. The following figure illustrates this situation.\n",
    "\n",
    "<img src=\"FILES\\Flow_well_confined.png\" width=\"400\">\n",
    "\n",
    "*Fig: Radial flow in a confined aquifer (Fetter, 1994)*\n",
    "\n",
    "The calculate the hydraulic situation, the following simplified flow equation can be used. This equation accounts for 1D radial transient flow towards a fully penetrating well within a confined aquifer without further sinks and sources:\n",
    "\n",
    "$$ \\frac{\\partial^2 h}{\\partial r^2}+\\frac{1}{r}\\frac{\\partial h}{\\partial r}=\\frac{S}{T}\\frac{\\partial h}{\\partial t} $$\n"
   ]
  },
  {
   "cell_type": "markdown",
   "metadata": {},
   "source": [
    "### Solution by Theis\n",
    "Charles V. Theis presented a solution for this by deriving\n",
    "\n",
    "$$ s(r,t)=\\frac{Q}{4\\pi T}W(u) $$\n",
    "\n",
    "with the well function\n",
    "\n",
    "$$ W(u) = \\int_{u }^{+\\infty} \\frac{e^{-\\tilde u}}{\\tilde u}d\\tilde u $$\n",
    "\n",
    "and the dimensionless variable \n",
    "\n",
    "$$ u = \\frac{Sr^2}{4Tt} $$\n",
    "\n",
    "This equations are not easy to solve. Historically, values for the well function were provided by tables or as so called type-curve. The type-curve matching with experimental data for pumping test analysis can be considered as one of the basic hydrogeological methods.\n",
    "\n",
    "However, modern computer provide an easier and more convinient way to solve the 1D radial flow equation based on the Theis approach."
   ]
  },
  {
   "cell_type": "markdown",
   "metadata": {},
   "source": [
    "### Computation\n",
    "\n",
    "Subsequently, the computation is done by general mathematical routines. It is not necessary to understand all details (although the code reveals them). But the application of those methods for pumping test data is of great practical importance.\n",
    "\n",
    "- Subsequently, parts that are not essential for understanding are marked with *(italic text in brackets)*. You need to run those cells but you don't necessarily need read the code.\n",
    "\n",
    "- Necessary parts come in **bold text**."
   ]
  },
  {
   "cell_type": "markdown",
   "metadata": {},
   "source": [
    "*(First, the necessary Python functions are initiated.)*"
   ]
  },
  {
   "cell_type": "code",
   "execution_count": 12,
   "metadata": {},
   "outputs": [],
   "source": [
    "%matplotlib inline\n",
    "import numpy as np\n",
    "import matplotlib.pyplot as plt\n",
    "import scipy.special\n",
    "from ipywidgets import *"
   ]
  },
  {
   "cell_type": "markdown",
   "metadata": {},
   "source": [
    "**The following section stores the measured data.**\n",
    "\n",
    "This are two lists with time (in minutes) and drawdown (in meters). Make sure that those elements match each other (e.g. the first time is associated with the first drawdown value etc.)"
   ]
  },
  {
   "cell_type": "code",
   "execution_count": 13,
   "metadata": {},
   "outputs": [],
   "source": [
    "m_time = [0.50,1.00,1.33,2.00,3.00,5.00,7.00,9.33,13.50,22.00,30.00] # time in minutes\n",
    "m_ddown = [0.30,0.37,0.38,0.40,0.43,0.49,0.52,0.53,0.55,0.56,0.57]   # drawdown in meters"
   ]
  },
  {
   "cell_type": "markdown",
   "metadata": {},
   "source": [
    "*(Here the necessary functions like the well function $W(u)$ are defined. Later, those functions are used in the computation)*"
   ]
  },
  {
   "cell_type": "code",
   "execution_count": 14,
   "metadata": {},
   "outputs": [],
   "source": [
    "#Define a function, class, and object for Theis Well analysis\n",
    "\n",
    "def well_function(u):\n",
    "    return scipy.special.exp1(u)\n",
    "\n",
    "def theis_u(T,S,r,t):\n",
    "    u = r ** 2 * S / 4. / T / t\n",
    "    return u\n",
    "\n",
    "def theis_s(Q, T, u):\n",
    "    s = Q / 4. / np.pi / T * well_function(u)\n",
    "    return s\n",
    "\n",
    "def theis_wu(Q, T, s):\n",
    "    wu = s * 4. * np.pi * T / Q\n",
    "    return wu"
   ]
  },
  {
   "cell_type": "markdown",
   "metadata": {
    "collapsed": true
   },
   "source": [
    "*(Here, the methode computes the data for the well function. Those data can be used to generate a type curve.)*"
   ]
  },
  {
   "cell_type": "code",
   "execution_count": 15,
   "metadata": {},
   "outputs": [],
   "source": [
    "u_max = 1\n",
    "r_max = 100000\n",
    "u  = [u_max for x in range(r_max)]\n",
    "um = [u_max for x in range(r_max)]\n",
    "u_inv  = [r_max/u_max for x in range(r_max)]\n",
    "um_inv = [r_max/u_max for x in range(r_max)]\n",
    "w_u  = [well_function(u_max/r_max) for x in range(r_max)]\n",
    "w_um = [well_function(u_max/r_max) for x in range(r_max)]\n",
    "\n",
    "for x in range(1,r_max,1):\n",
    "    if x>0:\n",
    "        u[x] = x*u_max/r_max\n",
    "        u_inv[x] = 1/u[x]\n",
    "        w_u[x] = well_function(u[x])"
   ]
  },
  {
   "cell_type": "markdown",
   "metadata": {},
   "source": [
    "**Subsequently, the given data for the processing of measured data are provided.**\n",
    "\n",
    "This are the given data like\n",
    "- pumping rate $Q$,\n",
    "- aquifer thickness $b$,\n",
    "- distance of the observation (where time and drawdown were measured) to the pumping well $r$.\n",
    "\n",
    "**These data can be adjusted for individual measurements.**"
   ]
  },
  {
   "cell_type": "code",
   "execution_count": 17,
   "metadata": {},
   "outputs": [],
   "source": [
    "# Parameters needed to solve Theis\n",
    "r = 23       # m\n",
    "b = 8.5      # m\n",
    "Q = 0.0267   #m^3/d"
   ]
  },
  {
   "cell_type": "markdown",
   "metadata": {},
   "source": [
    "**Here the data for curve fitting are adjusted**\n",
    "\n",
    "**The pumping test evaluation is more or less the calibration of a model (i.e. the Theis equations) by adjusting parameters. Those parameters include**\n",
    "- **Hydraulic conductivity** of the entire aquifer $K$\n",
    "- **Specific storage** of the aquifer $S_S$.\n",
    "\n",
    "Accordingly, Transmissivity $T$ and Storativity $S$ are computed."
   ]
  },
  {
   "cell_type": "code",
   "execution_count": 18,
   "metadata": {},
   "outputs": [
    {
     "data": {
      "application/vnd.jupyter.widget-view+json": {
       "model_id": "7e74d9985bb44cf4a0810b4195a82d3a",
       "version_major": 2,
       "version_minor": 0
      },
      "text/plain": [
       "interactive(children=(FloatLogSlider(value=0.03, description='T', max=1.0, min=-9.0, readout_format='.2e'), Fl…"
      ]
     },
     "metadata": {},
     "output_type": "display_data"
    },
    {
     "data": {
      "text/plain": [
       "<function __main__.Theis_plot(T, S)>"
      ]
     },
     "execution_count": 18,
     "metadata": {},
     "output_type": "execute_result"
    }
   ],
   "source": [
    "def Theis_plot(T,S):\n",
    "\n",
    "    # Parameters needed to solve Theis\n",
    "    #T = 3E-2    # m2/s\n",
    "    #S = 0.003  # dimensionless\n",
    "\n",
    "    # Compute K and SS to provide parameters for plausability check\n",
    "    # (i.e. are the parameter in a reasonable range)\n",
    "    K = T/b     # m/s\n",
    "    SS = S/b    # 1/m\n",
    "\n",
    "    x = 0\n",
    "    for t in m_time:\n",
    "        um[x] = theis_u(T,S,r,t*60)\n",
    "        um_inv[x] = 1/um[x]\n",
    "        w_um[x] = theis_wu(Q,T,m_ddown[x])\n",
    "        x = x+1\n",
    "    \n",
    "    fig, ax = plt.subplots()\n",
    "    ax.plot(u_inv, w_u)\n",
    "    ax.plot(um_inv, w_um,'ro')\n",
    "    plt.yscale(\"log\")\n",
    "    plt.xscale(\"log\")\n",
    "    plt.axis([1,1E5,1E-1,1E+1])\n",
    "    ax.set(xlabel='1/u', ylabel='w(u)',title='Theis drawdown')\n",
    "    ax.grid(which=\"both\")\n",
    "    plt.legend(('well function','measured'))\n",
    "    plt.show()\n",
    "\n",
    "    print(\"Transmissivity  T = K * b = \",T, \" m^2/s\")\n",
    "    print(\"Storativity    S = Ss * b = \",S,\"[-]\")\n",
    "    print(\"Hydraulic conductivity K  =  \",\"% 10.2E\"% K, \" m/s\")\n",
    "    print(\"Specific storage       Ss = \",\"% 10.3E\"%SS, \" 1/m\")\n",
    "    print(\"Aquifer thickness       b = \",b, \" m\")\n",
    "    \n",
    "interact(Theis_plot,\n",
    "         T=widgets.FloatLogSlider(value=0.03,base=10,min=-9, max=1, step=0.1,readout=True,readout_format='.2e'),\n",
    "         S=widgets.FloatLogSlider(value=0.003,base=10,min=-9, max=1, step=0.1,readout=True,readout_format='.2e'))"
   ]
  },
  {
   "cell_type": "markdown",
   "metadata": {},
   "source": [
    "*(Compute measured data and plot the well function)*"
   ]
  },
  {
   "cell_type": "markdown",
   "metadata": {},
   "source": [
    "**Plot the match between type curve and measured data**\n",
    "\n",
    "See what happens and modify the parameters $K$ and $S$. Modify until the fit is fine. "
   ]
  },
  {
   "cell_type": "code",
   "execution_count": null,
   "metadata": {},
   "outputs": [],
   "source": []
  }
 ],
 "metadata": {
  "kernelspec": {
   "display_name": "Python 3 (ipykernel)",
   "language": "python",
   "name": "python3"
  },
  "language_info": {
   "codemirror_mode": {
    "name": "ipython",
    "version": 3
   },
   "file_extension": ".py",
   "mimetype": "text/x-python",
   "name": "python",
   "nbconvert_exporter": "python",
   "pygments_lexer": "ipython3",
   "version": "3.8.5"
  },
  "toc": {
   "base_numbering": 1,
   "nav_menu": {},
   "number_sections": true,
   "sideBar": true,
   "skip_h1_title": false,
   "title_cell": "Table of Contents",
   "title_sidebar": "Contents",
   "toc_cell": false,
   "toc_position": {},
   "toc_section_display": true,
   "toc_window_display": false
  },
  "varInspector": {
   "cols": {
    "lenName": 16,
    "lenType": 16,
    "lenVar": 40
   },
   "kernels_config": {
    "python": {
     "delete_cmd_postfix": "",
     "delete_cmd_prefix": "del ",
     "library": "var_list.py",
     "varRefreshCmd": "print(var_dic_list())"
    },
    "r": {
     "delete_cmd_postfix": ") ",
     "delete_cmd_prefix": "rm(",
     "library": "var_list.r",
     "varRefreshCmd": "cat(var_dic_list()) "
    }
   },
   "position": {
    "height": "216.667px",
    "left": "2296.33px",
    "right": "20px",
    "top": "120px",
    "width": "243.667px"
   },
   "types_to_exclude": [
    "module",
    "function",
    "builtin_function_or_method",
    "instance",
    "_Feature"
   ],
   "window_display": true
  }
 },
 "nbformat": 4,
 "nbformat_minor": 1
}
