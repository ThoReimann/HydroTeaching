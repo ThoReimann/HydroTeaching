{
 "cells": [
  {
   "cell_type": "markdown",
   "metadata": {},
   "source": [
    "<br>Developed by: Thomas.Reimann@tu-dresden.de\n",
    "<br>Last change: 2021 02 13\n",
    "<br>Current state: Funktional / ggf. noch optimieren"
   ]
  },
  {
   "cell_type": "markdown",
   "metadata": {},
   "source": [
    "### Initial situation\n",
    "Consideration of (Figure 1):\n",
    "* Culmination point x_0 and\n",
    "* Width B of the stream divide.\n",
    "\n",
    "<br>\n",
    "$\\large x_0 = -\\frac{Q}{2\\pi Kib}$</center>\n",
    "\n",
    "<br>\n",
    "$\\large B = 2y_{max} = \\frac{Q}{Kib}$</center>\n",
    "\n",
    "<br>\n",
    "$\\large y_{max} = \\pm \\frac{Q}{2KiB}$</center>\n",
    "\n",
    "<br>\n",
    "<figure>\n",
    "  <img src=\"MWW01_T04_TSL_1.jpg\" alt=\"Trennstromlinie mit charakteristischen Größen\" style=\"width:20%\">\n",
    "  <figcaption>Fig.1 - Stream divide of a production well.</figcaption>\n",
    "</figure>\n",
    "\n",
    "Shape of the stream divide according to <a href=\"https://ngwa.onlinelibrary.wiley.com/doi/10.1111/j.1745-6584.1993.tb00824.x\" target=\"_blank\">Grubb (1993)</a>\n",
    "\n",
    "<br>\n",
    "$\\large x = \\frac{-y}{tan(\\frac{2\\pi K i b y}{Q})}$</center>"
   ]
  },
  {
   "cell_type": "code",
   "execution_count": 1,
   "metadata": {},
   "outputs": [],
   "source": [
    "# Initialize librarys\n",
    "import matplotlib\n",
    "import matplotlib.pyplot as plt\n",
    "import numpy as np\n",
    "import math\n",
    "from ipywidgets import *\n",
    "from math import pi, tan"
   ]
  },
  {
   "cell_type": "code",
   "execution_count": 2,
   "metadata": {},
   "outputs": [],
   "source": [
    "# Function for catchment width (maximale Breite des Einzugsgebietes)\n",
    "def ymax_conf(Q, K, i, b):\n",
    "    ymax = Q/(2.*K*i*b)\n",
    "    return ymax\n",
    "\n",
    "# Function for the culmination point (Kulminationspunkt)\n",
    "def x0_conf(Q, K, i, b):\n",
    "    x0 = -Q/(2.*np.pi*K*i*b)\n",
    "    return x0\n",
    "\n",
    "# Computaton of the well catchment (Berechnung der Trennstromlinie)\n",
    "def TSL_conf(x_max, Q, K, i, b, x_scale, y_scale, x_Punkt, y_Punkt):\n",
    "    ymax = ymax_conf(Q, K, i, b)\n",
    "    x0   = x0_conf(Q, K, i, b)\n",
    "    x = np.arange(int(x0)-1, x_max,1)\n",
    "    y = np.arange(-ymax, ymax, 0.1)\n",
    "    \n",
    "    # Compute catchment\n",
    "    x = -1*y/(np.tan(2*np.pi*K*i*b*y/Q))\n",
    "    \n",
    "    x_plot = 500 * x_scale\n",
    "    y_plot = 1000 * y_scale\n",
    "    \n",
    "    # Plot\n",
    "    fig = plt.figure(figsize=(12,8))\n",
    "    ax = fig.add_subplot(1, 1, 1)\n",
    "\n",
    "    ax.plot(x,y, label='Stream divide')\n",
    "    plt.plot(x_Punkt,y_Punkt, marker='o', color='r',linestyle ='None', label='marked point') \n",
    "    ax.set(xlabel='x', ylabel='y',title='Brunnen-EZG')\n",
    "    ax.set(xlim=(-x_plot, 10*x_plot), ylim=(-y_plot, y_plot))\n",
    "    plt.fill_between(x,y,color='blue', alpha=.1)\n",
    "    ax.grid()\n",
    "    plt.legend()\n",
    "    plt.show()\n",
    "    \n",
    "    print('y_max', ymax)\n",
    "    print('x0', x0)"
   ]
  },
  {
   "cell_type": "code",
   "execution_count": 3,
   "metadata": {},
   "outputs": [
    {
     "data": {
      "application/vnd.jupyter.widget-view+json": {
       "model_id": "4cd665f95e6c462abe9b5e3f415a024d",
       "version_major": 2,
       "version_minor": 0
      },
      "text/plain": [
       "interactive(children=(FloatText(value=0.05, description='Q', step=0.01), FloatLogSlider(value=0.00529513888888…"
      ]
     },
     "metadata": {},
     "output_type": "display_data"
    },
    {
     "data": {
      "text/plain": [
       "<function __main__.TSL_conf(x_max, Q, K, i, b, x_scale, y_scale, x_Punkt, y_Punkt)>"
      ]
     },
     "execution_count": 3,
     "metadata": {},
     "output_type": "execute_result"
    }
   ],
   "source": [
    "x_max = 1000      # Interne Variable um den Zahlenbereich zu definieren\n",
    "Q = 4320 / 86400  # Entnahmerate, umgerechnet in m und sek\n",
    "K = 457.5 / 86400 # hydraulische Leitfähigkeit in m und sek         \n",
    "i = 0.003         # Gradient der (Grund)Strömung\n",
    "b = 23            # Mächtigkeit des homogenen und isotropen Grundwasserleiters\n",
    "\n",
    "interact(TSL_conf,\n",
    "         x_max=fixed(x_max),\n",
    "         Q=widgets.FloatText        (value=Q, min = 0.001, max = 1, step = 0.01),\n",
    "         K=widgets.FloatLogSlider   (value=K,base=10,min=-6, max=-2, step=0.1,readout=True,readout_format='.2e'),\n",
    "         i=widgets.FloatText        (value=i,min = 0.0001, max=0.1, step=0.001,readout=True,readout_format='e'),\n",
    "         b=widgets.FloatText        (value=b,min = 1,max = 200, step = 1),\n",
    "         x_scale = widgets.FloatText(value=0.1,min = 0.1,max = 10, step = 0.1),\n",
    "         y_scale = widgets.FloatText(value=0.1,min = 0.1,max = 10, step = 0.1),\n",
    "         x_Punkt= widgets.FloatText (value=0, step=10),\n",
    "         y_Punkt=widgets.FloatText  (value=0,step=10))"
   ]
  },
  {
   "cell_type": "code",
   "execution_count": null,
   "metadata": {},
   "outputs": [],
   "source": []
  }
 ],
 "metadata": {
  "kernelspec": {
   "display_name": "Python 3 (ipykernel)",
   "language": "python",
   "name": "python3"
  },
  "language_info": {
   "codemirror_mode": {
    "name": "ipython",
    "version": 3
   },
   "file_extension": ".py",
   "mimetype": "text/x-python",
   "name": "python",
   "nbconvert_exporter": "python",
   "pygments_lexer": "ipython3",
   "version": "3.8.5"
  },
  "toc": {
   "base_numbering": 1,
   "nav_menu": {},
   "number_sections": true,
   "sideBar": true,
   "skip_h1_title": false,
   "title_cell": "Table of Contents",
   "title_sidebar": "Contents",
   "toc_cell": false,
   "toc_position": {},
   "toc_section_display": true,
   "toc_window_display": false
  }
 },
 "nbformat": 4,
 "nbformat_minor": 4
}
